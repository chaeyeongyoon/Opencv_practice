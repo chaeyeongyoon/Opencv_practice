{
 "cells": [
  {
   "cell_type": "markdown",
   "metadata": {},
   "source": [
    "template matching"
   ]
  },
  {
   "cell_type": "code",
   "execution_count": 31,
   "metadata": {},
   "outputs": [
    {
     "name": "stdout",
     "output_type": "stream",
     "text": [
      "['그린배터리', '상최 그 린', '', '40606. 010.0000.0000:', '6-메에, 0100000000000.000', '인천광역시 남동구 구월동 1451번지 정구프라자 1층', '\\x0c']\n",
      "{'name': '그린배터리', 'address': 'address'}\n",
      "{'name': '상최 그 린', 'address': 'address'}\n",
      "{'name': '상최 그 린', 'address': '40606. 010.0000.0000:'}\n",
      "{'name': '상최 그 린', 'address': '6-메에, 0100000000000.000'}\n",
      "{'name': '상최 그 린', 'address': '인천광역시 남동구 구월동 1451번지 정구프라자 1층'}\n"
     ]
    }
   ],
   "source": [
    "import cv2\n",
    "import pytesseract\n",
    "import numpy as np\n",
    "import pandas as pd\n",
    "\n",
    "text = pytesseract.image_to_string('name.jpg', lang='kor')\n",
    "\n",
    "text_list = text.split('\\n')\n",
    "print(text_list)\n",
    "for text in text_list:\n",
    "    if len(text)<3:\n",
    "        text_list.remove(text)\n",
    "        \n",
    "text_dict = {'name':'name', 'address':'address'}\n",
    "for text in text_list:\n",
    "    if 2<=len(text)<=6:\n",
    "        text_dict['name'] = text\n",
    "    elif len(text) >=8:\n",
    "        if len(text_dict['address']) < len(text):\n",
    "            text_dict['address'] = text\n",
    "    \n",
    "    print(text_dict)"
   ]
  },
  {
   "cell_type": "markdown",
   "metadata": {},
   "source": [
    "## Template matching"
   ]
  },
  {
   "cell_type": "code",
   "execution_count": 1,
   "metadata": {},
   "outputs": [],
   "source": [
    "#match templete\n",
    "import cv2\n",
    "import numpy as np\n",
    "import sys\n",
    "\n",
    "lenna = cv2.imread('lenna.jpg')\n",
    "template = cv2.imread('face.jpg')\n",
    "\n",
    "if lenna is None or template is None:\n",
    "    print('Image lead failed')\n",
    "\n",
    "lenna = lenna + (50, 50, 50) #밝기 50 증가\n",
    "\n",
    "#가우시안잡음 추가\n",
    "noise = np.zeros(lenna.shape, np.int32)\n",
    "cv2.randn(noise, 0, 10)\n",
    "lenna = cv2.add(lenna, noise, dtype=cv2.CV_8UC3)\n",
    "\n",
    "lenna2 = lenna.copy()\n",
    "\n",
    "match = cv2.matchTemplate(lenna, template, cv2.TM_CCORR_NORMED)\n",
    "\n",
    "_, maxv, _, maxloc = cv2.minMaxLoc(match)\n",
    "\n",
    "th, tw = template.shape[:2]\n",
    "\n",
    "cv2.rectangle(lenna2, maxloc, (maxloc[0]+tw, maxloc[1]+th), (0,0,255), 2)\n",
    "\n",
    "merge = np.hstack((lenna,lenna2))\n",
    "\n",
    "cv2.imshow('match', merge)\n",
    "\n",
    "cv2.waitKey()\n",
    "cv2.destroyAllWindows()"
   ]
  },
  {
   "cell_type": "code",
   "execution_count": 7,
   "metadata": {},
   "outputs": [],
   "source": [
    "import numpy as np\n",
    "import cv2\n",
    "\n",
    "obj = cv2.imread('./images/spades.png', cv2.IMREAD_GRAYSCALE)\n",
    "src = cv2.imread('./images/symbols.png', cv2.IMREAD_GRAYSCALE)\n",
    "\n",
    "if obj is None or src is None:\n",
    "    print('Image lead failed')\n",
    "    \n",
    "# 객체 영상 외곽선 검출\n",
    "_, obj_bin = cv2.threshold(obj, 128, 255, cv2.THRESH_BINARY_INV)\n",
    "obj_contours, _ = cv2.findContours(obj_bin, cv2.RETR_EXTERNAL, cv2.CHAIN_APPROX_NONE)\n",
    "obj_pts = obj_contours[0]\n",
    "\n",
    "#입력 영상 분석\n",
    "_, src_bin = cv2.threshold(src, 128, 255, cv2.THRESH_BINARY_INV)\n",
    "contours, _ = cv2.findContours(src_bin, cv2.RETR_EXTERNAL, cv2.CHAIN_APPROX_NONE )\n",
    "\n",
    "#결과영상\n",
    "dst = cv2.cvtColor(src, cv2.COLOR_GRAY2BGR)\n",
    "\n",
    "# 입력영상 모든 객체 영역 대해\n",
    "for pts in contours :\n",
    "    if cv2.contourArea(pts) < 1000:\n",
    "        continue\n",
    "        \n",
    "    rc = cv2.boundingRect(pts)\n",
    "    cv2.rectangle(dst, rc, (255, 0, 0), 1)\n",
    "    \n",
    "    #비교\n",
    "    dist= cv2.matchShapes(obj_pts, pts, cv2.CONTOURS_MATCH_I3, 0)\n",
    "    \n",
    "    cv2.putText(dst, str(round(dist,4)), (rc[0], rc[1] - 3),\n",
    "                cv2.FONT_HERSHEY_SIMPLEX, 0.6, (255, 0, 0))\n",
    "    \n",
    "    if dist < 0.1:\n",
    "        cv2.rectangle(dst, rc, (0,0,255), 2)\n",
    "\n",
    "cv2.imshow('obj', obj)\n",
    "cv2.imshow('dst', dst)\n",
    "cv2.waitKey()\n",
    "cv2.destroyAllWindows()"
   ]
  },
  {
   "cell_type": "code",
   "execution_count": 3,
   "metadata": {},
   "outputs": [
    {
     "name": "stdout",
     "output_type": "stream",
     "text": [
      "maxv: 0.6846160888671875\n",
      "maxloc: (330, 219)\n"
     ]
    }
   ],
   "source": [
    "#template match\n",
    "import sys\n",
    "import numpy as np\n",
    "import cv2\n",
    "\n",
    "# 입력영상, 템플릿 영상 불러오기\n",
    "src = cv2.imread('./images/template_matching_ex1.png', cv2.IMREAD_GRAYSCALE)\n",
    "templ = cv2.imread('./images/template_matching_ex2.png', cv2.IMREAD_GRAYSCALE)\n",
    "\n",
    "if src is None or templ is None:\n",
    "    print('Image load failed')\n",
    "    \n",
    "# 입력영상 밝기 50 증가 and 가우시안 잡음 추가\n",
    "noise = np.zeros(src.shape, np.int32)\n",
    "cv2.randn(noise, 50, 10)\n",
    "src = cv2.add(src, noise, dtype=cv2.CV_8UC3)\n",
    "\n",
    "# template matching,결과분석\n",
    "res = cv2.matchTemplate(src, templ, cv2.TM_CCOEFF_NORMED)\n",
    "\n",
    "#res=TM_COEFF_NORMED 의 결과이므로 -1~1값 가짐\n",
    "# grayscale(0~255)로 나타내기 위해 normalize\n",
    "res_norm = cv2.normalize(res, None, 0, 255, cv2.NORM_MINMAX, cv2.CV_8U)\n",
    "\n",
    "# MinMaxLoc 결과 : min값,  max값, min위치, max위치\n",
    "_, maxv, _, maxloc = cv2.minMaxLoc(res)\n",
    "\n",
    "print('maxv:',maxv)\n",
    "print('maxloc:', maxloc)\n",
    "\n",
    "#매칭 결과 빨간색 표시\n",
    "th, tw = templ.shape[:2]\n",
    "dst = cv2.cvtColor(src, cv2.COLOR_GRAY2BGR)\n",
    "cv2.rectangle(dst, maxloc, (maxloc[0]+tw, maxloc[1]+th), (0,0,255), 2)\n",
    "\n",
    "cv2.imshow('res_norm', res_norm)\n",
    "cv2.imshow('template', templ)\n",
    "cv2.imshow('dst', dst)\n",
    "cv2.waitKey()\n",
    "cv2.destroyAllWindows()"
   ]
  },
  {
   "cell_type": "code",
   "execution_count": null,
   "metadata": {},
   "outputs": [],
   "source": []
  }
 ],
 "metadata": {
  "kernelspec": {
   "display_name": "Python 3",
   "language": "python",
   "name": "python3"
  },
  "language_info": {
   "codemirror_mode": {
    "name": "ipython",
    "version": 3
   },
   "file_extension": ".py",
   "mimetype": "text/x-python",
   "name": "python",
   "nbconvert_exporter": "python",
   "pygments_lexer": "ipython3",
   "version": "3.7.6"
  }
 },
 "nbformat": 4,
 "nbformat_minor": 4
}
